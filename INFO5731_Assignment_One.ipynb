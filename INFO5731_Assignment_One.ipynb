{
  "cells": [
    {
      "cell_type": "markdown",
      "metadata": {
        "id": "view-in-github",
        "colab_type": "text"
      },
      "source": [
        "<a href=\"https://colab.research.google.com/github/Supraja1419/Supraja_INFO5731_Spring2022/blob/main/INFO5731_Assignment_One.ipynb\" target=\"_parent\"><img src=\"https://colab.research.google.com/assets/colab-badge.svg\" alt=\"Open In Colab\"/></a>"
      ]
    },
    {
      "cell_type": "markdown",
      "metadata": {
        "id": "Ryk8D1Q4Wsrp"
      },
      "source": [
        "# **INFO5731 Assignment One**"
      ]
    },
    {
      "cell_type": "markdown",
      "metadata": {
        "id": "90_NR8c5XGWc"
      },
      "source": [
        "# Question 1\n",
        "\n",
        "(20 points). Write a Python program to generate 12 random numbers between 1 and 100. Sort the list of numbers in ascending order and print it out. Sort the list of numbers in descending order and print it out. Calculate the average for the group and print it out."
      ]
    },
    {
      "cell_type": "code",
      "execution_count": 3,
      "metadata": {
        "colab": {
          "base_uri": "https://localhost:8080/"
        },
        "id": "5QX6bJjGWXY9",
        "outputId": "09a43160-ef80-47ee-fe0b-f7a243e56488"
      },
      "outputs": [
        {
          "output_type": "stream",
          "name": "stdout",
          "text": [
            "The 12 randomly generated number in between 1 to 100 are: \n",
            "[59, 56, 86, 53, 53, 52, 93, 19, 61, 44, 31, 47]\n",
            "The average is  54.5\n",
            "The sorted List: [19, 31, 44, 47, 52, 53, 53, 56, 59, 61, 86, 93]\n",
            "The reversed list: [93, 86, 61, 59, 56, 53, 53, 52, 47, 44, 31, 19]\n"
          ]
        }
      ],
      "source": [
        "# Your code here\n",
        "import random\n",
        "start = 1   # inclusive\n",
        "end = 100    # exclusive\n",
        "n = 12     # size\n",
        "x = [random.randrange(start, end) for _ in range(n)]\n",
        "print (\"The 12 randomly generated number in between 1 to 100 are: \")\n",
        "print(x)\n",
        "#Average of a list\n",
        "avg = sum(x)/len(x)\n",
        "print(\"The average is \", round(avg,2))\n",
        "#sorting the digits\n",
        "x.sort()\n",
        "print(\"The sorted List:\",x)\n",
        "#Reversing the numbers\n",
        "x.sort(reverse=True)\n",
        "print(\"The reversed list:\",x)\n",
        "\n"
      ]
    },
    {
      "cell_type": "markdown",
      "metadata": {
        "id": "1F_PZdH9Sh49"
      },
      "source": [
        "# Question 2\n",
        "(25 points). Write a program that will do the following string formatting tasks:\n",
        "\n",
        "(1) Ask the user to enter two sentences.\n",
        "\n",
        "(2) Make each sentence into a list. Each element in the list should correspond to a word in the sentence. For example, if the sentence is \"Alas! Am I alive? This is my first python program\", the program should print out ['Alas, '!', 'Am', 'I', 'alive, '?', 'This', 'is', 'my', 'first', 'python', 'program'].\n",
        "\n",
        "(3) Compare the two sentences. Print out a list of words that occur in both sentences.\n",
        "\n",
        "(4) Remove any punctuation from the sentence and print it back out. It should remove at least the following characters, but it can remove more: period(“.”), comma (“,”), semicolon (“;”), and colon (“:”)\n",
        "\n",
        "(5) Count the number of vowels in the sentences. Print out each vowel and the number of times it appears in the sentences, such as: a:2, e:1, i:0, etc"
      ]
    },
    {
      "cell_type": "code",
      "execution_count": 2,
      "metadata": {
        "colab": {
          "base_uri": "https://localhost:8080/"
        },
        "id": "Y0oOSlsOS0cq",
        "outputId": "f8e2b54f-d58a-4ddb-f20a-44256fc68c3d"
      },
      "outputs": [
        {
          "output_type": "stream",
          "name": "stdout",
          "text": [
            "Enter First String: love!?\n",
            "Enter Second String: hate?!\n",
            "List one: ['!?']\n",
            "List two: ['?!']\n",
            "\n",
            " Remaining are same\n",
            "e\n",
            "!\n",
            "?\n",
            "\n",
            " Remaining are same without Punchuations\n",
            "e\n",
            "\n",
            " vowels occurance in first sentance {'a': 0, 'e': 0, 'i': 0, 'o': 1, 'u': 0}\n",
            "\n",
            " vowels occurance in first sentance {'a': 0, 'e': 1, 'i': 0, 'o': 1, 'u': 0}\n",
            "\n",
            " vowels occurance in second sentance {'a': 1, 'e': 1, 'i': 0, 'o': 1, 'u': 0}\n",
            "\n",
            " vowels occurance in second sentance {'a': 1, 'e': 2, 'i': 0, 'o': 1, 'u': 0}\n"
          ]
        }
      ],
      "source": [
        "# Your code here\n",
        "\n",
        "import string\n",
        "import re\n",
        "from difflib import SequenceMatcher\n",
        "from os import read\n",
        "#Reading two strings manually\n",
        "S1 = input(\"Enter First String: \")\n",
        "S2= input(\"Enter Second String: \")\n",
        "X=re.findall(r\"[\\W']+|[;:/!.,]\",S1)\n",
        "Y=re.findall(r\"[\\W']+|[;:/!.,]\",S2)\n",
        "print(\"List one:\",X)\n",
        "print(\"List two:\",Y)\n",
        "\n",
        "print(\"\\n Remaining are same\")\n",
        "for word in S1:\n",
        "  for l in S2:\n",
        "    if word.lower()==l.lower():\n",
        "      print(word)\n",
        "\n",
        "      \n",
        "print(\"\\n Remaining are same without Punchuations\")\n",
        "for word in S1:\n",
        "  for l in S2:\n",
        "    if word.lower()==l.lower() and word not in string.punctuation:\n",
        "      print(word)\n",
        "\n",
        "Vowels={'a':0, 'e':0, 'i':0, 'o':0, 'u':0}\n",
        "for alphabets in S1:\n",
        "  if alphabets.lower() in Vowels:\n",
        "    Vowels[alphabets.lower()] += 1\n",
        "    print(\"\\n vowels occurance in first sentance\" , Vowels)\n",
        "for alphabets in S2:\n",
        "  if alphabets.lower() in Vowels:\n",
        "    Vowels[alphabets.lower()] += 1\n",
        "    print(\"\\n vowels occurance in second sentance\" , Vowels)\n"
      ]
    },
    {
      "cell_type": "markdown",
      "metadata": {
        "id": "CmFoI4jDS9nx"
      },
      "source": [
        "# Question 3 \n",
        "\n",
        "(15 points). The formula that describes the volume V of a sphere with radius r is the following:\n",
        "\n",
        "$ V=\\frac{4}{3}\\ast\\ \\pi\\ast\\ r^3 $\n",
        "\n",
        "Write a program to calculate the value of V when r is in the range of 1–10. Output the result in the following format:\n",
        "\n",
        "\tr\tV\n",
        "\t1\t…\n",
        "\t2\t…\n",
        "\t3\t…\n"
      ]
    },
    {
      "cell_type": "code",
      "execution_count": 1,
      "metadata": {
        "colab": {
          "base_uri": "https://localhost:8080/"
        },
        "id": "pEyqeioAT95b",
        "outputId": "8b9c9990-d0cc-4b31-d068-380397c1495a"
      },
      "outputs": [
        {
          "output_type": "stream",
          "name": "stdout",
          "text": [
            "range \t ----- Volume\n",
            "1 \t----- 4.1888\n",
            "2 \t----- 33.5104\n",
            "3 \t----- 113.09759999999997\n",
            "4 \t----- 268.0832\n",
            "5 \t----- 523.6\n",
            "6 \t----- 904.7807999999998\n",
            "7 \t----- 1436.7584\n",
            "8 \t----- 2144.6656\n",
            "9 \t----- 3053.6352\n",
            "10 \t----- 4188.8\n"
          ]
        }
      ],
      "source": [
        "# Your code here\n",
        "#Diplaying Headings\n",
        "print (\"range \\t ----- Volume\")\n",
        "#For loop iterate from 1 to 10\n",
        "for r in range (1,11):\n",
        "#Calculate volume using the formula\n",
        "  volume=(4/3*3.1416*r*r*r)\n",
        "  print(r,\"\\t\" \"-----\",volume) #Display volume\n"
      ]
    },
    {
      "cell_type": "code",
      "execution_count": null,
      "metadata": {
        "id": "pMCr3l8tnu0j"
      },
      "outputs": [],
      "source": [
        ""
      ]
    },
    {
      "cell_type": "markdown",
      "metadata": {
        "id": "z3tBE7E-Xn5X"
      },
      "source": [
        "# Question 4\n",
        "\n",
        "(40 points). In the field of Data Science, data is often formatted as a comma-delimited (CSV) file, where each line in a file corresponds to a field's value. Refer to Chapter 9 (p. 106) for more information on comma-delimited files. To answer this question, you will need to download the file [Assignment1_denton_housing.csv](https://raw.githubusercontent.com/unt-iialab/info5731-spring2022/main/assignments/Assignment1_denton_housing.csv) included with this assignment. The file [Assignment1_denton_housing.csv](https://raw.githubusercontent.com/unt-iialab/info5731-spring2022/main/assignments/Assignment1_denton_housing.csv) contains statistics about housing in the city of Denton from 2008 to 2014. Write a program to implement the following questions.\n",
        "\n",
        "(1) (10 pts) Calculate the difference in the number of Occupied Housing Units from year to year and print it. The difference must be calculated for the consecutive years such as 2008-2009, 2009-2010 etc. Finally, print the values in the ascending order.\n",
        "\n",
        "(2) (10 pts) For all the years, calculate the percentage of housing units which are vacant an occupied. Print the results in the following format:\n",
        "\n",
        "Year Vacant Housing Units Occupied Housing Units\n",
        "\n",
        "    2008  30%   70%                          \n",
        "\t2009 ----- -----\n",
        "\t2010 ----- -----\n",
        "    2011 ----- -----\n",
        "\t2012 ----- -----\n",
        "    2013 ----- -----\n",
        "\t2014 ----- -----\n",
        "  \n",
        "  \n",
        "\n",
        "(3) (10 pts) Calculate and print the valued and years in which the highest number of housing units were vacant and occupied. Print the results in the following format:  \n",
        "\n",
        "                              Year\tValue\n",
        "\tVacant Housing Units\t  -----   -----\n",
        "\tOccupied Housing Units\t-----   -----\n",
        "\n",
        "(4) (10 pts) Calculate the harmonic mean of the total housing units and print it out. You can find the information about harmonic mean here: https://ncalculators.com/statistics/harmonic-mean-calculator.htm"
      ]
    },
    {
      "cell_type": "code",
      "execution_count": null,
      "metadata": {
        "id": "lqGYuHBhcsRH"
      },
      "outputs": [],
      "source": [
        "# Your code here\n",
        "import csv\n",
        "import pandas as pd\n",
        "\n",
        "data=pd.read_csv('Assignment1_denton_housing.csv')\n",
        "print('Shape',data.shape)\n",
        "data.head()\n",
        "#Calculate the difference in the number of Occupied Housing Units from year to year and print it. The difference must be calculated for the consecutive years such as 2008-2009, 2009-2010 etc. Finally, print the values in the ascending order.\n",
        "\n",
        "occupied_hs=data[data['title_field']=='Occupied Housing Units'].sort_values(by=['year'])\n",
        "\n",
        "diff =[list(occupied_hs['value'].values)[loop1] - list(occupied_hs['value'].values)[loop1+1]\n",
        "        for loop1 in range(len(occupied_hs)-1)]\n",
        "\n",
        "diff=sorted(diff)\n",
        "diff\n",
        "#For all the years, calculate the percentage of housing units which are vacant an occupied. Print the results in the following format:\n",
        "un_yr=sorted(list(data['year'].unique()))\n",
        "vacant_hs=data[data['title_field']=='Vacant Housing Units'].sort_values(by=['year'])\n",
        "\n",
        "new_df=pd.DataFrame()\n",
        "new_df['year']=un_yr\n",
        "new_df['Vacant hs']=vacant_hs['value'].values\n",
        "new_df['occupied hs']=occupied_hs['value'].values\n",
        "new_df['percent of vacant']=[(new_df['Vacant hs'][l] * 100)/\\\n",
        "                            (new_df['Vacant hs'][l]+ new_df['occupied hs'][l])\\\n",
        "                            for l in range(len(new_df))]\n",
        "\n",
        "new_df['percent of occupied']=[(new_df['occupied hs'][l] * 100)/\\\n",
        "                            (new_df['occupied hs'][l]+new_df['Vacant hs'][l])\\\n",
        "                            for l in range(len(new_df))]\n",
        "\n",
        "new_df\n",
        "#Calculate and print the values and years in which the highest number of housing units were vacant and occupied. Print the results in the following format:\n",
        "fl = pd.DataFrame(list(zip('year', 'percent of vacant', 'percent of occupied')), columns =['Year','Vacant Housing Units', 'Occupied Housing Units'])\n",
        "fl\n",
        "vacant_house=data[data['title_field']=='Vacant Housing Units']\n",
        "high= pd.concat([occupied_house[occupied_house['value'] == occupied_house['value'].max()],vacant_house[vacant_house['value'] == vacant_house['value'].max()]])\n",
        "print(high[['title_field','year','value']])\n",
        "\n",
        "\n",
        "\n"
      ]
    }
  ],
  "metadata": {
    "colab": {
      "collapsed_sections": [],
      "name": "INFO5731_Assignment_One.ipynb",
      "provenance": [],
      "toc_visible": true,
      "include_colab_link": true
    },
    "kernelspec": {
      "display_name": "Python 3",
      "language": "python",
      "name": "python3"
    },
    "language_info": {
      "codemirror_mode": {
        "name": "ipython",
        "version": 3
      },
      "file_extension": ".py",
      "mimetype": "text/x-python",
      "name": "python",
      "nbconvert_exporter": "python",
      "pygments_lexer": "ipython3",
      "version": "3.8.5"
    }
  },
  "nbformat": 4,
  "nbformat_minor": 0
}